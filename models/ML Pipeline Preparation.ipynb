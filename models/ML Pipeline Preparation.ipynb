{
 "cells": [
  {
   "cell_type": "markdown",
   "metadata": {},
   "source": [
    "# ML Pipeline Preparation\n",
    "Follow the instructions below to help you create your ML pipeline.\n",
    "### 1. Import libraries and load data from database.\n",
    "- Import Python libraries\n",
    "- Load dataset from database with [`read_sql_table`](https://pandas.pydata.org/pandas-docs/stable/generated/pandas.read_sql_table.html)\n",
    "- Define feature and target variables X and Y"
   ]
  },
  {
   "cell_type": "code",
   "execution_count": 1,
   "metadata": {
    "scrolled": false
   },
   "outputs": [
    {
     "name": "stderr",
     "output_type": "stream",
     "text": [
      "[nltk_data] Downloading package punkt to\n",
      "[nltk_data]     C:\\Users\\hw07\\AppData\\Roaming\\nltk_data...\n",
      "[nltk_data]   Package punkt is already up-to-date!\n",
      "[nltk_data] Downloading package wordnet to\n",
      "[nltk_data]     C:\\Users\\hw07\\AppData\\Roaming\\nltk_data...\n",
      "[nltk_data]   Package wordnet is already up-to-date!\n",
      "[nltk_data] Downloading package averaged_perceptron_tagger to\n",
      "[nltk_data]     C:\\Users\\hw07\\AppData\\Roaming\\nltk_data...\n",
      "[nltk_data]   Package averaged_perceptron_tagger is already up-to-\n",
      "[nltk_data]       date!\n"
     ]
    },
    {
     "data": {
      "text/plain": [
       "True"
      ]
     },
     "execution_count": 1,
     "metadata": {},
     "output_type": "execute_result"
    }
   ],
   "source": [
    "import nltk\n",
    "nltk.download(['punkt', 'wordnet', 'averaged_perceptron_tagger'])"
   ]
  },
  {
   "cell_type": "code",
   "execution_count": 2,
   "metadata": {},
   "outputs": [],
   "source": [
    "# import libraries\n",
    "import pandas as pd\n",
    "from sqlalchemy import create_engine\n",
    "import pickle\n",
    "\n",
    "import re\n",
    "from nltk.tokenize import word_tokenize\n",
    "from nltk.stem import WordNetLemmatizer\n",
    "\n",
    "from sklearn.pipeline import Pipeline, FeatureUnion\n",
    "from sklearn.model_selection import train_test_split\n",
    "from sklearn.metrics import classification_report\n",
    "from sklearn.model_selection import GridSearchCV\n",
    "from sklearn.feature_extraction.text import TfidfTransformer, CountVectorizer\n",
    "from sklearn.base import BaseEstimator, TransformerMixin\n",
    "from sklearn.multioutput import MultiOutputClassifier\n",
    "from sklearn.linear_model import LogisticRegression\n",
    "from sklearn.ensemble import GradientBoostingClassifier, RandomForestClassifier, AdaBoostClassifier"
   ]
  },
  {
   "cell_type": "code",
   "execution_count": 3,
   "metadata": {},
   "outputs": [],
   "source": [
    "# load data from database\n",
    "engine = create_engine('sqlite:///' + 'DisasterResponse.db')\n",
    "df = pd.read_sql_table('dis_res_table', engine)\n",
    "X = df['message']\n",
    "y = df.iloc[:, 4:]"
   ]
  },
  {
   "cell_type": "markdown",
   "metadata": {},
   "source": [
    "### 2. Write a tokenization function to process your text data"
   ]
  },
  {
   "cell_type": "code",
   "execution_count": 4,
   "metadata": {},
   "outputs": [],
   "source": [
    "def tokenize(text):\n",
    "    \n",
    "    # url regular expressions\n",
    "    url_regex = 'http[s]?://(?:[a-zA-Z]|[0-9]|[$-_@.&+]|[!*\\(\\),]|(?:%[0-9a-fA-F][0-9a-fA-F]))+'\n",
    "    \n",
    "    # Find all urls in the provided text\n",
    "    detected_urls = re.findall(url_regex, text)\n",
    "    \n",
    "    # Replace url with url placeholder string\n",
    "    for url in detected_urls:\n",
    "        text = text.replace(url, \"urlplaceholder\")\n",
    "    \n",
    "    # Extract the word tokens from the provided text\n",
    "    tokens = word_tokenize(text)\n",
    "    \n",
    "    # Init the Wordnet Lemmatizer (converting a word to its base form)\n",
    "    lemmatizer = WordNetLemmatizer()\n",
    "\n",
    "    # List of clean tokens\n",
    "    clean_tokens = [lemmatizer.lemmatize(w).lower().strip() for w in tokens]\n",
    "\n",
    "    return clean_tokens"
   ]
  },
  {
   "cell_type": "markdown",
   "metadata": {},
   "source": [
    "### 3. Build a machine learning pipeline\n",
    "This machine pipeline should take in the `message` column as input and output classification results on the other 36 categories in the dataset. You may find the [MultiOutputClassifier](http://scikit-learn.org/stable/modules/generated/sklearn.multioutput.MultiOutputClassifier.html) helpful for predicting multiple target variables."
   ]
  },
  {
   "cell_type": "code",
   "execution_count": 8,
   "metadata": {},
   "outputs": [],
   "source": [
    "pipeline = Pipeline([\n",
    "        ('features', FeatureUnion([\n",
    "\n",
    "            ('text_pipeline', Pipeline([\n",
    "                ('vect', CountVectorizer(tokenizer=tokenize)),\n",
    "                ('tfidf', TfidfTransformer())\n",
    "            ]))\n",
    "            \n",
    "        ])),\n",
    "\n",
    "        ('clf', MultiOutputClassifier(LogisticRegression(max_iter=200)))\n",
    "    ])"
   ]
  },
  {
   "cell_type": "markdown",
   "metadata": {},
   "source": [
    "### 4. Train pipeline\n",
    "- Split data into train and test sets\n",
    "- Train pipeline"
   ]
  },
  {
   "cell_type": "code",
   "execution_count": 9,
   "metadata": {},
   "outputs": [],
   "source": [
    "X_train, X_test, y_train, y_test = train_test_split(X, y, random_state=0)\n",
    "pipeline_fitted = pipeline.fit(X_train, y_train)"
   ]
  },
  {
   "cell_type": "markdown",
   "metadata": {},
   "source": [
    "### 5. Test your model\n",
    "Report the f1 score, precision and recall for each output category of the dataset. You can do this by iterating through the columns and calling sklearn's `classification_report` on each."
   ]
  },
  {
   "cell_type": "code",
   "execution_count": 10,
   "metadata": {
    "scrolled": false
   },
   "outputs": [
    {
     "name": "stdout",
     "output_type": "stream",
     "text": [
      "                        precision    recall  f1-score   support\n",
      "\n",
      "               related       0.84      0.96      0.89      5007\n",
      "               request       0.82      0.55      0.66      1142\n",
      "                 offer       0.00      0.00      0.00        33\n",
      "           aid_related       0.77      0.69      0.72      2705\n",
      "          medical_help       0.67      0.17      0.27       507\n",
      "      medical_products       0.80      0.16      0.27       335\n",
      "     search_and_rescue       0.89      0.05      0.09       176\n",
      "              security       0.00      0.00      0.00       109\n",
      "              military       0.68      0.11      0.19       203\n",
      "                 water       0.83      0.51      0.63       440\n",
      "                  food       0.83      0.60      0.70       736\n",
      "               shelter       0.84      0.45      0.59       582\n",
      "              clothing       0.67      0.12      0.20       116\n",
      "                 money       0.83      0.06      0.12       155\n",
      "        missing_people       0.00      0.00      0.00        74\n",
      "              refugees       0.73      0.08      0.14       209\n",
      "                 death       0.91      0.24      0.38       292\n",
      "             other_aid       0.63      0.12      0.20       866\n",
      "infrastructure_related       0.79      0.05      0.09       443\n",
      "             transport       0.77      0.12      0.21       307\n",
      "             buildings       0.82      0.25      0.38       327\n",
      "           electricity       0.72      0.09      0.16       140\n",
      "                 tools       0.00      0.00      0.00        34\n",
      "             hospitals       0.00      0.00      0.00        76\n",
      "                 shops       0.00      0.00      0.00        25\n",
      "           aid_centers       0.00      0.00      0.00        77\n",
      "  other_infrastructure       0.57      0.03      0.05       307\n",
      "       weather_related       0.85      0.66      0.74      1815\n",
      "                floods       0.93      0.43      0.58       574\n",
      "                 storm       0.76      0.46      0.58       623\n",
      "                  fire       0.67      0.03      0.06        66\n",
      "            earthquake       0.92      0.65      0.76       591\n",
      "                  cold       0.71      0.09      0.17       107\n",
      "         other_weather       0.68      0.04      0.07       357\n",
      "         direct_report       0.75      0.49      0.59      1267\n",
      "\n",
      "             micro avg       0.82      0.55      0.66     20823\n",
      "             macro avg       0.62      0.24      0.30     20823\n",
      "          weighted avg       0.78      0.55      0.60     20823\n",
      "           samples avg       0.67      0.49      0.52     20823\n",
      "\n"
     ]
    },
    {
     "name": "stderr",
     "output_type": "stream",
     "text": [
      "C:\\Program Files\\Anaconda3\\lib\\site-packages\\sklearn\\metrics\\_classification.py:1272: UndefinedMetricWarning: Precision and F-score are ill-defined and being set to 0.0 in labels with no predicted samples. Use `zero_division` parameter to control this behavior.\n",
      "  _warn_prf(average, modifier, msg_start, len(result))\n",
      "C:\\Program Files\\Anaconda3\\lib\\site-packages\\sklearn\\metrics\\_classification.py:1272: UndefinedMetricWarning: Precision and F-score are ill-defined and being set to 0.0 in samples with no predicted labels. Use `zero_division` parameter to control this behavior.\n",
      "  _warn_prf(average, modifier, msg_start, len(result))\n",
      "C:\\Program Files\\Anaconda3\\lib\\site-packages\\sklearn\\metrics\\_classification.py:1272: UndefinedMetricWarning: Recall and F-score are ill-defined and being set to 0.0 in samples with no true labels. Use `zero_division` parameter to control this behavior.\n",
      "  _warn_prf(average, modifier, msg_start, len(result))\n"
     ]
    }
   ],
   "source": [
    "y_pred_test = pipeline_fitted.predict(X_test)\n",
    "\n",
    "# Print classification report on test data\n",
    "print(classification_report(y_test.values, y_pred_test, target_names=y.columns.values))"
   ]
  },
  {
   "cell_type": "markdown",
   "metadata": {},
   "source": [
    "### 6. Improve your model\n",
    "Use grid search to find better parameters. "
   ]
  },
  {
   "cell_type": "code",
   "execution_count": 11,
   "metadata": {},
   "outputs": [
    {
     "data": {
      "text/plain": [
       "dict_keys(['C', 'class_weight', 'dual', 'fit_intercept', 'intercept_scaling', 'l1_ratio', 'max_iter', 'multi_class', 'n_jobs', 'penalty', 'random_state', 'solver', 'tol', 'verbose', 'warm_start'])"
      ]
     },
     "execution_count": 11,
     "metadata": {},
     "output_type": "execute_result"
    }
   ],
   "source": [
    "LogisticRegression().get_params().keys()"
   ]
  },
  {
   "cell_type": "code",
   "execution_count": 12,
   "metadata": {},
   "outputs": [
    {
     "data": {
      "text/plain": [
       "GridSearchCV(cv=None, error_score=nan,\n",
       "             estimator=Pipeline(memory=None,\n",
       "                                steps=[('features',\n",
       "                                        FeatureUnion(n_jobs=None,\n",
       "                                                     transformer_list=[('text_pipeline',\n",
       "                                                                        Pipeline(memory=None,\n",
       "                                                                                 steps=[('vect',\n",
       "                                                                                         CountVectorizer(analyzer='word',\n",
       "                                                                                                         binary=False,\n",
       "                                                                                                         decode_error='strict',\n",
       "                                                                                                         dtype=<class 'numpy.int64'>,\n",
       "                                                                                                         encoding='utf-8',\n",
       "                                                                                                         input='content',\n",
       "                                                                                                         lowercase=True,\n",
       "                                                                                                         max_df=1.0,\n",
       "                                                                                                         max_features=N...\n",
       "                                                                                           max_iter=200,\n",
       "                                                                                           multi_class='auto',\n",
       "                                                                                           n_jobs=None,\n",
       "                                                                                           penalty='l2',\n",
       "                                                                                           random_state=None,\n",
       "                                                                                           solver='lbfgs',\n",
       "                                                                                           tol=0.0001,\n",
       "                                                                                           verbose=0,\n",
       "                                                                                           warm_start=False),\n",
       "                                                              n_jobs=None))],\n",
       "                                verbose=False),\n",
       "             iid='deprecated', n_jobs=None,\n",
       "             param_grid={'clf__estimator__C': [0.1, 0.5, 1.0],\n",
       "                         'clf__estimator__max_iter': [200, 300]},\n",
       "             pre_dispatch='2*n_jobs', refit=True, return_train_score=False,\n",
       "             scoring=None, verbose=0)"
      ]
     },
     "execution_count": 12,
     "metadata": {},
     "output_type": "execute_result"
    }
   ],
   "source": [
    "parameters = {#'features__text_pipeline__vect__ngram_range': ((1, 1), (1, 2)),\n",
    "              #'features__text_pipeline__vect__max_df': (0.5, 0.75, 1.0),\n",
    "              #'features__text_pipeline__vect__max_features': (None, 5000, 10000),\n",
    "              #'features__text_pipeline__tfidf__use_idf': (True, False),\n",
    "              'clf__estimator__max_iter': [200, 300],\n",
    "              'clf__estimator__C': [0.1, 0.5, 1.0]}\n",
    "\n",
    "cv = GridSearchCV(pipeline, param_grid=parameters)\n",
    "cv.fit(X_train, y_train)"
   ]
  },
  {
   "cell_type": "markdown",
   "metadata": {},
   "source": [
    "### 7. Test your model\n",
    "Show the accuracy, precision, and recall of the tuned model.  \n",
    "\n",
    "Since this project focuses on code quality, process, and  pipelines, there is no minimum performance metric needed to pass. However, make sure to fine tune your models for accuracy, precision and recall to make your project stand out - especially for your portfolio!"
   ]
  },
  {
   "cell_type": "code",
   "execution_count": 13,
   "metadata": {},
   "outputs": [
    {
     "name": "stdout",
     "output_type": "stream",
     "text": [
      "                        precision    recall  f1-score   support\n",
      "\n",
      "               related       0.84      0.96      0.89      5007\n",
      "               request       0.82      0.55      0.66      1142\n",
      "                 offer       0.00      0.00      0.00        33\n",
      "           aid_related       0.77      0.69      0.72      2705\n",
      "          medical_help       0.67      0.17      0.27       507\n",
      "      medical_products       0.80      0.16      0.27       335\n",
      "     search_and_rescue       0.89      0.05      0.09       176\n",
      "              security       0.00      0.00      0.00       109\n",
      "              military       0.68      0.11      0.19       203\n",
      "                 water       0.83      0.51      0.63       440\n",
      "                  food       0.83      0.60      0.70       736\n",
      "               shelter       0.84      0.45      0.59       582\n",
      "              clothing       0.67      0.12      0.20       116\n",
      "                 money       0.83      0.06      0.12       155\n",
      "        missing_people       0.00      0.00      0.00        74\n",
      "              refugees       0.73      0.08      0.14       209\n",
      "                 death       0.91      0.24      0.38       292\n",
      "             other_aid       0.63      0.12      0.20       866\n",
      "infrastructure_related       0.79      0.05      0.09       443\n",
      "             transport       0.77      0.12      0.21       307\n",
      "             buildings       0.82      0.25      0.38       327\n",
      "           electricity       0.72      0.09      0.16       140\n",
      "                 tools       0.00      0.00      0.00        34\n",
      "             hospitals       0.00      0.00      0.00        76\n",
      "                 shops       0.00      0.00      0.00        25\n",
      "           aid_centers       0.00      0.00      0.00        77\n",
      "  other_infrastructure       0.57      0.03      0.05       307\n",
      "       weather_related       0.85      0.66      0.74      1815\n",
      "                floods       0.93      0.43      0.58       574\n",
      "                 storm       0.76      0.46      0.58       623\n",
      "                  fire       0.67      0.03      0.06        66\n",
      "            earthquake       0.92      0.65      0.76       591\n",
      "                  cold       0.71      0.09      0.17       107\n",
      "         other_weather       0.68      0.04      0.07       357\n",
      "         direct_report       0.75      0.49      0.59      1267\n",
      "\n",
      "             micro avg       0.82      0.55      0.66     20823\n",
      "             macro avg       0.62      0.24      0.30     20823\n",
      "          weighted avg       0.78      0.55      0.60     20823\n",
      "           samples avg       0.67      0.49      0.52     20823\n",
      "\n"
     ]
    },
    {
     "name": "stderr",
     "output_type": "stream",
     "text": [
      "C:\\Program Files\\Anaconda3\\lib\\site-packages\\sklearn\\metrics\\_classification.py:1272: UndefinedMetricWarning: Precision and F-score are ill-defined and being set to 0.0 in labels with no predicted samples. Use `zero_division` parameter to control this behavior.\n",
      "  _warn_prf(average, modifier, msg_start, len(result))\n",
      "C:\\Program Files\\Anaconda3\\lib\\site-packages\\sklearn\\metrics\\_classification.py:1272: UndefinedMetricWarning: Precision and F-score are ill-defined and being set to 0.0 in samples with no predicted labels. Use `zero_division` parameter to control this behavior.\n",
      "  _warn_prf(average, modifier, msg_start, len(result))\n",
      "C:\\Program Files\\Anaconda3\\lib\\site-packages\\sklearn\\metrics\\_classification.py:1272: UndefinedMetricWarning: Recall and F-score are ill-defined and being set to 0.0 in samples with no true labels. Use `zero_division` parameter to control this behavior.\n",
      "  _warn_prf(average, modifier, msg_start, len(result))\n"
     ]
    }
   ],
   "source": [
    "# Get the prediction values from the grid search cross validator\n",
    "y_pred_test = cv.predict(X_test)\n",
    "\n",
    "# Print classification report on test data\n",
    "print(classification_report(y_test.values, y_pred_test, target_names=y.columns.values))"
   ]
  },
  {
   "cell_type": "markdown",
   "metadata": {},
   "source": [
    "### 8. Try improving your model further. Here are a few ideas:\n",
    "* try other machine learning algorithms\n",
    "* add other features besides the TF-IDF"
   ]
  },
  {
   "cell_type": "code",
   "execution_count": 14,
   "metadata": {},
   "outputs": [],
   "source": [
    "# Build a custom transformer which will extract the starting verb of a sentence\n",
    "class StartingVerbExtractor(BaseEstimator, TransformerMixin):\n",
    "    \"\"\"\n",
    "    Starting Verb Extractor class\n",
    "    \n",
    "    This class extract the starting verb of a sentence,\n",
    "    creating a new feature for the ML classifier\n",
    "    \"\"\"\n",
    "\n",
    "    def starting_verb(self, text):\n",
    "        sentence_list = nltk.sent_tokenize(text)\n",
    "        for sentence in sentence_list:\n",
    "            pos_tags = nltk.pos_tag(tokenize(sentence))\n",
    "            first_word, first_tag = pos_tags[0]\n",
    "            if first_tag in ['VB', 'VBP'] or first_word == 'RT':\n",
    "                return True\n",
    "        return False\n",
    "\n",
    "    def fit(self, X, y=None):\n",
    "        return self\n",
    "\n",
    "    def transform(self, X):\n",
    "        X_tagged = pd.Series(X).apply(self.starting_verb)\n",
    "        return pd.DataFrame(X_tagged)\n",
    "\n",
    "class message_lengths_words(BaseEstimator, TransformerMixin):\n",
    "    \n",
    "    \"\"\"\n",
    "    Estimator that takes a column of strings, and converts them into a column\n",
    "    of integers, representing the word count of each string\n",
    "    \"\"\"\n",
    "        \n",
    "    def message_length_words(self, text):\n",
    "      # tokenize by words, how many words in message\n",
    "        word_list_tok = word_tokenize(text)\n",
    "\n",
    "        return len(word_list_tok)\n",
    "\n",
    "      \n",
    "    def fit(self, x, y=None):\n",
    "        return self\n",
    "\n",
    "    def transform(self, X):\n",
    "        # apply length_word function to all values in X\n",
    "        \n",
    "        X_tagged_words = pd.Series(X).apply(self.message_length_words)\n",
    "\n",
    "        return pd.DataFrame(X_tagged_words)\n",
    "     \n",
    "    \n",
    "class message_length_char(BaseEstimator, TransformerMixin):\n",
    "    \n",
    "    \"\"\"\n",
    "    Estimator that takes a column of strings, and converts them into a column\n",
    "    of integers, representing the character length of each string\n",
    "    \"\"\"\n",
    "    \n",
    "    #get how many characters in string\n",
    "    def message_length_chars(self, text):\n",
    "          \n",
    "        tran = len(text)\n",
    "        return tran\n",
    "      \n",
    "    def fit(self, x, y=None):\n",
    "        return self\n",
    "\n",
    "    def transform(self, X):\n",
    "        # apply length_char function to all values in X\n",
    "        X_tagged_char = pd.Series(X).apply(self.message_length_chars)  \n",
    "\n",
    "        return pd.DataFrame(X_tagged_char) "
   ]
  },
  {
   "cell_type": "code",
   "execution_count": 15,
   "metadata": {
    "scrolled": true
   },
   "outputs": [
    {
     "name": "stdout",
     "output_type": "stream",
     "text": [
      "                        precision    recall  f1-score   support\n",
      "\n",
      "               related       0.82      0.94      0.88      5007\n",
      "               request       0.76      0.54      0.63      1142\n",
      "                 offer       0.00      0.00      0.00        33\n",
      "           aid_related       0.76      0.60      0.67      2705\n",
      "          medical_help       0.65      0.30      0.41       507\n",
      "      medical_products       0.63      0.30      0.41       335\n",
      "     search_and_rescue       0.63      0.15      0.25       176\n",
      "              security       0.31      0.05      0.08       109\n",
      "              military       0.63      0.34      0.44       203\n",
      "                 water       0.78      0.68      0.73       440\n",
      "                  food       0.80      0.71      0.75       736\n",
      "               shelter       0.75      0.55      0.63       582\n",
      "              clothing       0.64      0.41      0.50       116\n",
      "                 money       0.63      0.34      0.44       155\n",
      "        missing_people       0.60      0.16      0.26        74\n",
      "              refugees       0.56      0.25      0.35       209\n",
      "                 death       0.78      0.49      0.60       292\n",
      "             other_aid       0.51      0.15      0.23       866\n",
      "infrastructure_related       0.47      0.10      0.16       443\n",
      "             transport       0.66      0.21      0.32       307\n",
      "             buildings       0.65      0.39      0.49       327\n",
      "           electricity       0.58      0.29      0.38       140\n",
      "                 tools       0.00      0.00      0.00        34\n",
      "             hospitals       0.26      0.08      0.12        76\n",
      "                 shops       0.00      0.00      0.00        25\n",
      "           aid_centers       0.30      0.08      0.12        77\n",
      "  other_infrastructure       0.47      0.10      0.17       307\n",
      "       weather_related       0.84      0.67      0.75      1815\n",
      "                floods       0.89      0.57      0.70       574\n",
      "                 storm       0.72      0.58      0.64       623\n",
      "                  fire       0.62      0.30      0.41        66\n",
      "            earthquake       0.90      0.77      0.83       591\n",
      "                  cold       0.59      0.31      0.40       107\n",
      "         other_weather       0.45      0.15      0.23       357\n",
      "         direct_report       0.73      0.48      0.58      1267\n",
      "\n",
      "             micro avg       0.77      0.59      0.67     20823\n",
      "             macro avg       0.58      0.34      0.42     20823\n",
      "          weighted avg       0.74      0.59      0.64     20823\n",
      "           samples avg       0.64      0.51      0.52     20823\n",
      "\n"
     ]
    },
    {
     "name": "stderr",
     "output_type": "stream",
     "text": [
      "C:\\Program Files\\Anaconda3\\lib\\site-packages\\sklearn\\metrics\\_classification.py:1272: UndefinedMetricWarning: Precision and F-score are ill-defined and being set to 0.0 in samples with no predicted labels. Use `zero_division` parameter to control this behavior.\n",
      "  _warn_prf(average, modifier, msg_start, len(result))\n",
      "C:\\Program Files\\Anaconda3\\lib\\site-packages\\sklearn\\metrics\\_classification.py:1272: UndefinedMetricWarning: Recall and F-score are ill-defined and being set to 0.0 in samples with no true labels. Use `zero_division` parameter to control this behavior.\n",
      "  _warn_prf(average, modifier, msg_start, len(result))\n"
     ]
    }
   ],
   "source": [
    "pipeline2 = Pipeline([\n",
    "        ('features', FeatureUnion([\n",
    "\n",
    "            ('text_pipeline', Pipeline([\n",
    "                ('vect', CountVectorizer(tokenizer=tokenize)),\n",
    "                ('tfidf', TfidfTransformer())\n",
    "            ])),\n",
    "            ('word_counts', message_lengths_words()),\n",
    "            ('char_lengths', message_length_char()),\n",
    "            ('starting_verb_transformer', StartingVerbExtractor())\n",
    "            \n",
    "        ])),\n",
    "\n",
    "        ('clf', MultiOutputClassifier(AdaBoostClassifier()))\n",
    "    ])\n",
    "\n",
    "# fit\n",
    "pipeline2_fitted = pipeline2.fit(X_train, y_train)\n",
    "\n",
    "# predict on test data\n",
    "y_pred_test = pipeline2_fitted.predict(X_test)\n",
    "\n",
    "# Print classification report on test data\n",
    "print(classification_report(y_test.values, y_pred_test, target_names=y.columns.values))"
   ]
  },
  {
   "cell_type": "code",
   "execution_count": 16,
   "metadata": {},
   "outputs": [
    {
     "name": "stdout",
     "output_type": "stream",
     "text": [
      "                        precision    recall  f1-score   support\n",
      "\n",
      "               related       0.76      1.00      0.87      5007\n",
      "               request       0.87      0.23      0.37      1142\n",
      "                 offer       0.00      0.00      0.00        33\n",
      "           aid_related       0.80      0.26      0.39      2705\n",
      "          medical_help       0.80      0.01      0.02       507\n",
      "      medical_products       0.80      0.01      0.02       335\n",
      "     search_and_rescue       1.00      0.01      0.01       176\n",
      "              security       0.00      0.00      0.00       109\n",
      "              military       0.00      0.00      0.00       203\n",
      "                 water       0.85      0.47      0.61       440\n",
      "                  food       0.79      0.70      0.74       736\n",
      "               shelter       0.83      0.30      0.44       582\n",
      "              clothing       0.00      0.00      0.00       116\n",
      "                 money       1.00      0.01      0.01       155\n",
      "        missing_people       0.00      0.00      0.00        74\n",
      "              refugees       1.00      0.01      0.02       209\n",
      "                 death       0.80      0.03      0.05       292\n",
      "             other_aid       0.00      0.00      0.00       866\n",
      "infrastructure_related       0.00      0.00      0.00       443\n",
      "             transport       0.85      0.06      0.10       307\n",
      "             buildings       0.80      0.01      0.02       327\n",
      "           electricity       0.79      0.08      0.14       140\n",
      "                 tools       0.00      0.00      0.00        34\n",
      "             hospitals       0.00      0.00      0.00        76\n",
      "                 shops       0.00      0.00      0.00        25\n",
      "           aid_centers       0.00      0.00      0.00        77\n",
      "  other_infrastructure       0.00      0.00      0.00       307\n",
      "       weather_related       0.93      0.32      0.48      1815\n",
      "                floods       0.93      0.36      0.52       574\n",
      "                 storm       0.82      0.04      0.07       623\n",
      "                  fire       1.00      0.03      0.06        66\n",
      "            earthquake       0.90      0.66      0.76       591\n",
      "                  cold       0.75      0.03      0.05       107\n",
      "         other_weather       0.00      0.00      0.00       357\n",
      "         direct_report       0.81      0.21      0.33      1267\n",
      "\n",
      "             micro avg       0.80      0.40      0.54     20823\n",
      "             macro avg       0.54      0.14      0.17     20823\n",
      "          weighted avg       0.72      0.40      0.44     20823\n",
      "           samples avg       0.74      0.42      0.48     20823\n",
      "\n"
     ]
    },
    {
     "name": "stderr",
     "output_type": "stream",
     "text": [
      "C:\\Program Files\\Anaconda3\\lib\\site-packages\\sklearn\\metrics\\_classification.py:1272: UndefinedMetricWarning: Precision and F-score are ill-defined and being set to 0.0 in labels with no predicted samples. Use `zero_division` parameter to control this behavior.\n",
      "  _warn_prf(average, modifier, msg_start, len(result))\n",
      "C:\\Program Files\\Anaconda3\\lib\\site-packages\\sklearn\\metrics\\_classification.py:1272: UndefinedMetricWarning: Recall and F-score are ill-defined and being set to 0.0 in samples with no true labels. Use `zero_division` parameter to control this behavior.\n",
      "  _warn_prf(average, modifier, msg_start, len(result))\n"
     ]
    }
   ],
   "source": [
    "parameters = {#'features__text_pipeline__vect__ngram_range': ((1, 1), (1, 2)),\n",
    "              #'features__text_pipeline__vect__max_df': (0.5, 0.75, 1.0),\n",
    "              #'features__text_pipeline__vect__max_features': (None, 5000, 10000),\n",
    "              #'features__text_pipeline__tfidf__use_idf': (True, False),\n",
    "              'clf__estimator__learning_rate': [0.01, 0.02, 0.05],\n",
    "              'clf__estimator__n_estimators': [10, 20, 40]}\n",
    "\n",
    "cv = GridSearchCV(pipeline2, param_grid=parameters)\n",
    "cv.fit(X_train, y_train)\n",
    "\n",
    "# Get the prediction values from the grid search cross validator\n",
    "y_pred_test = cv.predict(X_test)\n",
    "\n",
    "# Print classification report on test data\n",
    "print(classification_report(y_test.values, y_pred_test, target_names=y.columns.values))"
   ]
  },
  {
   "cell_type": "markdown",
   "metadata": {},
   "source": [
    "### 9. Export your model as a pickle file"
   ]
  },
  {
   "cell_type": "code",
   "execution_count": 17,
   "metadata": {},
   "outputs": [],
   "source": [
    "# save the model to disk\n",
    "filename = 'classifier.pkl'\n",
    "pickle.dump(pipeline2, open(filename, 'wb'))"
   ]
  },
  {
   "cell_type": "markdown",
   "metadata": {},
   "source": [
    "### 10. Use this notebook to complete `train.py`\n",
    "Use the template file attached in the Resources folder to write a script that runs the steps above to create a database and export a model based on a new dataset specified by the user."
   ]
  },
  {
   "cell_type": "code",
   "execution_count": null,
   "metadata": {},
   "outputs": [],
   "source": []
  }
 ],
 "metadata": {
  "kernelspec": {
   "display_name": "Python 3",
   "language": "python",
   "name": "python3"
  },
  "language_info": {
   "codemirror_mode": {
    "name": "ipython",
    "version": 3
   },
   "file_extension": ".py",
   "mimetype": "text/x-python",
   "name": "python",
   "nbconvert_exporter": "python",
   "pygments_lexer": "ipython3",
   "version": "3.7.10"
  }
 },
 "nbformat": 4,
 "nbformat_minor": 2
}
